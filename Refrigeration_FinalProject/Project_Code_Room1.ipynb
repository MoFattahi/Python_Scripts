{
 "metadata": {
  "language_info": {
   "codemirror_mode": {
    "name": "ipython",
    "version": 3
   },
   "file_extension": ".py",
   "mimetype": "text/x-python",
   "name": "python",
   "nbconvert_exporter": "python",
   "pygments_lexer": "ipython3",
   "version": "3.9.0"
  },
  "orig_nbformat": 2,
  "kernelspec": {
   "name": "python3",
   "display_name": "Python 3.9.0 64-bit",
   "metadata": {
    "interpreter": {
     "hash": "aee8b7b246df8f9039afb4144a1f6fd8d2ca17a180786b69acc140d282b71a49"
    }
   }
  }
 },
 "nbformat": 4,
 "nbformat_minor": 2,
 "cells": [
  {
   "source": [
    "# Room 1"
   ],
   "cell_type": "markdown",
   "metadata": {}
  },
  {
   "source": [
    "# Heat transfer from walls, ceil, floor"
   ],
   "cell_type": "markdown",
   "metadata": {}
  },
  {
   "source": [],
   "cell_type": "markdown",
   "metadata": {}
  },
  {
   "source": [
    "## North and West walls"
   ],
   "cell_type": "markdown",
   "metadata": {}
  },
  {
   "cell_type": "code",
   "execution_count": null,
   "metadata": {},
   "outputs": [],
   "source": [
    "# Total Thickness = 20 inch"
   ]
  },
  {
   "cell_type": "code",
   "execution_count": 4,
   "metadata": {},
   "outputs": [
    {
     "output_type": "stream",
     "name": "stdout",
     "text": [
      "Resluts:\n\nHeat transfer rates:\n\nOverall heat transfer coefficient(U): 0.015598190609889253\nHeat transfer form the north wall: 734.0882857588522 BTU/hr\nHeat Transfer form the west wall: 2097.395102168149 BTU/hr\nHeat Transfer form the south wall: 0 BTU/hr\n"
     ]
    }
   ],
   "source": [
    "# Thermal resistances\n",
    "\n",
    "# polyurethane\n",
    "R_1_l_w = 4.81 # Unit: ft^2 . F / (BTU / hr) per inch\n",
    "L_1_w = 13      # Thickness of the insulation(inch)\n",
    "R_1_w = L_1_w * R_1_l_w\n",
    "\n",
    "# Pressed brick\n",
    "# Thickness = 11 cm\n",
    "# Unit: ft^2 . F / (BTU / hr)\n",
    "R_2_w = 0.51\n",
    "\n",
    "# Ceramics \n",
    "# Unit: ft^2 . F / (BTU / hr) per inch\n",
    "R_3_l_w = 0.07\n",
    "L_3_w = 1     # Thickness\n",
    "R_3_w = R_3_l_w * L_3_w\n",
    "\n",
    "# Cement\n",
    "# Unit: ft^2 . F / (BTU / hr) per inch\n",
    "R_4_l_w = 0.07\n",
    "L_4_w = 2     # Thickness(in)\n",
    "R_4_w = R_4_l_w * L_4_w\n",
    "\n",
    "\n",
    "# Air Layer (Inside)\n",
    "R_5_w = 0.53\n",
    "\n",
    "# Air Layer (Outside)\n",
    "R_6_w = 0.33\n",
    "\n",
    "# Overall Heat Transfer Coefficient\n",
    "U_NW_Walls = 1/(R_1_w + R_2_w + R_3_w + R_4_w + R_5_w + R_6_w)\n",
    "\n",
    "# Area(North Wall)(ft^2)\n",
    "A_North = 560\n",
    "\n",
    "# Area(West Wall)(ft^2)\n",
    "A_West = 1600\n",
    "\n",
    "# Temperature difference(F)\n",
    "TD_NW_Walls = 76.4 \n",
    "\n",
    "# Conversion Coefficient \n",
    "n = 1.1\n",
    "\n",
    "\n",
    "# Heat Transfer \n",
    "\n",
    "# North Wall\n",
    "Q_N_Wall = n * U_NW_Walls * A_North * TD_NW_Walls\n",
    "\n",
    "# West Wall\n",
    "Q_W_Wall = n * U_NW_Walls * A_West * TD_NW_Walls\n",
    "\n",
    "\n",
    "\n",
    "print(\"Resluts:\\n\\nHeat transfer rates:\\n\")\n",
    "\n",
    "print(\"Overall heat transfer coefficient(U): {}\".format(U_NW_Walls))\n",
    "print(\"Heat transfer form the north wall: {} BTU/hr\".format(Q_N_Wall))\n",
    "print(\"Heat Transfer form the west wall: {} BTU/hr\".format(Q_W_Wall))\n",
    "print(\"Heat Transfer form the south wall: 0 BTU/hr\")"
   ]
  },
  {
   "source": [
    "## East Wall"
   ],
   "cell_type": "markdown",
   "metadata": {}
  },
  {
   "cell_type": "code",
   "execution_count": null,
   "metadata": {},
   "outputs": [],
   "source": [
    "# Total thickness = 18 in "
   ]
  },
  {
   "cell_type": "code",
   "execution_count": 5,
   "metadata": {},
   "outputs": [
    {
     "output_type": "stream",
     "name": "stdout",
     "text": [
      "\nOverall heat transfer coefficient(U) for the east wall: 0.01584534938995405\nHeat transfer form the east wall: 1182.164474726668 BTU/hr\n\n"
     ]
    }
   ],
   "source": [
    "# Area(East Wall)(ft^2)\n",
    "A_East = 1570 \n",
    "\n",
    "# Ceramics:\n",
    "R_1_l_E = 0.07 # Unit: ft^2 . F / (BTU / hr) per inch\n",
    "L_1_E = 1\n",
    "R_1_E = R_1_l_E * L_1_E\n",
    "\n",
    "# Pressed brick\n",
    "# Thickness = 11 cm\n",
    "# Unit: ft^2 . F / (BTU / hr)\n",
    "R_2_E = 0.51\n",
    "\n",
    "# polyurethane\n",
    "R_3_l_E = 4.81 # Unit: ft^2 . F / (BTU / hr) per inch\n",
    "L_3_E = 13      # Thickness of the insulation(inch)\n",
    "R_3_E = L_3_E * R_3_l_E\n",
    "\n",
    "# Overall Heat Transfer Coefficient\n",
    "U_E_Wall = 1 / (R_1_E + R_2_E + R_3_E)\n",
    "\n",
    "# Temperature difference(F)\n",
    "TD_E_Wall = 43.2\n",
    "\n",
    "# Conversion Coefficient \n",
    "n = 1.1\n",
    "\n",
    "# Heat Transfer\n",
    "Q_E_Wall = n * U_E_Wall * A_East * TD_E_Wall\n",
    "\n",
    "\n",
    "\n",
    "print(\"\")\n",
    "print(\"Overall heat transfer coefficient(U) for the east wall: {}\".format(U_E_Wall))\n",
    "print(\"Heat transfer form the east wall: {} BTU/hr\\n\".format(Q_E_Wall))"
   ]
  },
  {
   "source": [
    "## Floor"
   ],
   "cell_type": "markdown",
   "metadata": {}
  },
  {
   "cell_type": "code",
   "execution_count": null,
   "metadata": {},
   "outputs": [],
   "source": [
    "# Total Thickness = 21 inch"
   ]
  },
  {
   "cell_type": "code",
   "execution_count": 11,
   "metadata": {},
   "outputs": [
    {
     "output_type": "stream",
     "name": "stdout",
     "text": [
      "Results:\n\n\nOverall heat transfer coefficient(U) for the floor: 0.011512779184895234 BTU/hr.F.ft^2\nHeat transfer form the floor: 2233.9396730370713 BTU/hr\n\n"
     ]
    }
   ],
   "source": [
    "# Thermal resistances\n",
    "\n",
    "# mosaic\n",
    "R_1_l_f = 0.08   # Unit: ft^2 . F / (BTU / hr) per inch\n",
    "L_1_f = 1      # Thickness(inch)\n",
    "R_1_f = R_1_l_f * L_1_f\n",
    "\n",
    "# polyurethane\n",
    "R_2_l_f = 4.81 # Unit: ft^2 . F / (BTU / hr) per inch\n",
    "L_2_f = 18      # Thickness of the insulation(inch)\n",
    "R_2_f = L_2_f * R_2_l_f\n",
    "\n",
    "# concrete\n",
    "R_3_l_f = 0.1   # Unit: ft^2 . F / (BTU / hr) per inch\n",
    "L_3_f = 2      # Thickness(inch)\n",
    "R_3_f = R_3_l_f * L_3_f\n",
    "\n",
    "# Overall Heat Transfer Coefficient\n",
    "U_Floor = 1/(R_1_f + R_2_f + R_3_f)\n",
    "\n",
    "# Area(Ft^2)\n",
    "A_Floor = 3500 \n",
    "\n",
    "# Temperature difference(F)\n",
    "TD_Floor = 50.4\n",
    "\n",
    "# Conversion Coefficient \n",
    "n = 1.1\n",
    "\n",
    "\n",
    "# Heat Transfer \n",
    "Q_Floor = n * U_Floor * A_Floor * TD_Floor\n",
    "\n",
    "print(\"Results:\\n\\n\")\n",
    "print(\"Overall heat transfer coefficient(U) for the floor: {} BTU/hr.F.ft^2\".format(U_Floor))\n",
    "print(\"Heat transfer form the floor: {} BTU/hr\\n\".format(Q_Floor))"
   ]
  },
  {
   "source": [
    "## Ceil"
   ],
   "cell_type": "markdown",
   "metadata": {}
  },
  {
   "cell_type": "code",
   "execution_count": null,
   "metadata": {},
   "outputs": [],
   "source": [
    "# Total Thickness = 24 inch"
   ]
  },
  {
   "cell_type": "code",
   "execution_count": 1,
   "metadata": {},
   "outputs": [
    {
     "output_type": "stream",
     "name": "stdout",
     "text": [
      "Results:\n\n\nOverall heat transfer coefficient(U) for the ceil: 0.01471800306134464 BTU/hr.F.ft^2\nHeat transfer form the ceil: 4329.153420463913 BTU/hr\n\n"
     ]
    }
   ],
   "source": [
    "# Polystyrene Block\n",
    "R_1_c = 4.83   # Unit: ft^2 . F / (BTU / hr)\n",
    "\n",
    "# Ceramics\n",
    "R_2_l_c = 0.07   # Unit: ft^2 . F / (BTU / hr) per inch\n",
    "L_2_c = 1.2      # Thickness(inch)\n",
    "R_2_c = R_2_l_c * L_2_c\n",
    "\n",
    "# Air layer(Inside)\n",
    "R_3_c = 0.5 # Unit: ft^2 . F / (BTU / hr)\n",
    "\n",
    "# polyurethane\n",
    "R_4_l_c = 4.81 # Unit: ft^2 . F / (BTU / hr) per inch\n",
    "L_4_c = 13     # Thickness of the insulation(inch)\n",
    "R_4_c = L_4_c * R_4_l_c\n",
    "\n",
    "# Overall Heat Transfer Coefficient\n",
    "U_Ceil = 1/(R_1_c + R_2_c + R_3_c + R_4_c)\n",
    "\n",
    "# Area(Ft^2)\n",
    "A_Ceil = 3500 \n",
    "\n",
    "# Temperature difference(F)\n",
    "TD_Ceil = 76.4 \n",
    "\n",
    "# Conversion Coefficient \n",
    "n = 1.1\n",
    "\n",
    "\n",
    "# Heat Transfer \n",
    "Q_Ceil = n * U_Ceil * A_Ceil * TD_Ceil\n",
    "\n",
    "print(\"Results:\\n\\n\")\n",
    "print(\"Overall heat transfer coefficient(U) for the ceil: {} BTU/hr.F.ft^2\".format(U_Ceil))\n",
    "print(\"Heat transfer form the ceil: {} BTU/hr\\n\".format(Q_Ceil))"
   ]
  },
  {
   "source": [
    "# Infiltration air heat transfer rate"
   ],
   "cell_type": "markdown",
   "metadata": {}
  },
  {
   "source": [
    "# Effective Volume of the Room(Unit: ft^3)\n",
    "V_1 = 56000\n",
    "\n",
    "# Storage temperature of the room(F)\n",
    "T_1 = -0.4\n",
    "print(\"Result:\\n\")\n",
    "print(\"Infiltration heat loss for the room 1(From the table): 84.47 BTU/hr\")"
   ],
   "cell_type": "code",
   "metadata": {},
   "execution_count": 14,
   "outputs": [
    {
     "output_type": "stream",
     "name": "stdout",
     "text": [
      "Result:\n\nInfiltration heat loss for the room 1(From the table): 84.47 BTU/hr\n"
     ]
    }
   ]
  },
  {
   "source": [
    "# Heat loss from the products"
   ],
   "cell_type": "markdown",
   "metadata": {}
  },
  {
   "cell_type": "code",
   "execution_count": 17,
   "metadata": {},
   "outputs": [
    {
     "output_type": "stream",
     "name": "stdout",
     "text": [
      "Result:\n\nHeat loss of the products in the room 1: 46419.93060036875 BTU/hr\n"
     ]
    }
   ],
   "source": [
    "# Total mass of the products(lb)\n",
    "M_1 = 8818.49\n",
    "\n",
    "# Specific heat of the products(unit: BTU/lb.F)\n",
    "# https://www.engineeringtoolbox.com/specific-heat-capacity-food-d_295.html\n",
    "\n",
    "# Above Freeezing\n",
    "c_AF = 0.76\n",
    "\n",
    "# Below Freezing\n",
    "c_BF = 0.39\n",
    "\n",
    "# Inlet Temperature(F)\n",
    "T_i = 35.6\n",
    "\n",
    "# Freezing Temperature(F)\n",
    "T_f = 28.4\n",
    "\n",
    "# Storage Temperature(F)\n",
    "T_s = -0.4\n",
    "\n",
    "# Latent heat of freezing(unit: Btu/lb)\n",
    "lf = 0.429923 * 255\n",
    "\n",
    "# Heat loss of the products(24 hr: Assumption for the time of the cooling)\n",
    "Q_1 = (M_1 * c_AF * (T_i - T_f) / 24) + (M_1 * lf / 24) + (M_1 * c_BF * (T_f - T_s) / 24)\n",
    "\n",
    "print(\"Result:\\n\")\n",
    "print(\"Heat loss of the products in the room 1: {} BTU/hr\".format(Q_1))"
   ]
  },
  {
   "source": [
    "# Heat loss from the boxes"
   ],
   "cell_type": "markdown",
   "metadata": {}
  },
  {
   "cell_type": "code",
   "execution_count": 18,
   "metadata": {},
   "outputs": [
    {
     "output_type": "stream",
     "name": "stdout",
     "text": [
      "Result:\n\nHeat loss of the boxes in the room 1: 364.37940000000003 BTU/hr\n"
     ]
    }
   ],
   "source": [
    "# Total mass of the boxes\n",
    "M_boxes = 44 * 33\n",
    "\n",
    "# Specific heat(unit: BTU/lb.F)\n",
    "c_box = 0.1673\n",
    "\n",
    "# Inlet Temperature(F)\n",
    "T_i = 35.6\n",
    "\n",
    "# Outlet Temperature(F)\n",
    "T_o = -0.4\n",
    "\n",
    "# Heat loss from the boxes \n",
    "Q_B_1 = M_boxes * c_box * (T_i - T_o) / 24\n",
    "\n",
    "print(\"Result:\\n\")\n",
    "print(\"Heat loss of the boxes in the room 1: {} BTU/hr\".format(Q_B_1))"
   ]
  },
  {
   "source": [
    "# miscellaneous heat losses"
   ],
   "cell_type": "markdown",
   "metadata": {}
  },
  {
   "source": [
    "# Heat loss from the people in the refregiration room"
   ],
   "cell_type": "markdown",
   "metadata": {}
  },
  {
   "cell_type": "code",
   "execution_count": 1,
   "metadata": {},
   "outputs": [
    {
     "output_type": "stream",
     "name": "stdout",
     "text": [
      "Result:\n\nHeat loss of the people in the room 1: 700.0 BTU/hr\n"
     ]
    }
   ],
   "source": [
    "# Number of people\n",
    "N_P = 4\n",
    "\n",
    "# Working time(hr)\n",
    "T_W = 8 \n",
    "\n",
    "# Heat loss from each person(unit: BTU/hr) (Condition: Hard working)\n",
    "q_p = 525\n",
    "\n",
    "# Total heat loss\n",
    "Q_P_1 = N_P * T_W * q_p / 24\n",
    "\n",
    "print(\"Result:\\n\")\n",
    "print(\"Heat loss of the people in the room 1: {} BTU/hr\".format(Q_P_1))"
   ]
  },
  {
   "source": [
    "# Heat loss from the lighting system"
   ],
   "cell_type": "markdown",
   "metadata": {}
  },
  {
   "cell_type": "code",
   "execution_count": 6,
   "metadata": {},
   "outputs": [
    {
     "output_type": "stream",
     "name": "stdout",
     "text": [
      "Result:\n\nHeat loss of the lighting system in the room 1: 1591.3333333333333 BTU/hr\n"
     ]
    }
   ],
   "source": [
    "# Working time(hr)\n",
    "T_W = 8\n",
    "\n",
    "# Total power of the lighting system(unit: BTU/hr)\n",
    "P_L = 4774\n",
    "\n",
    "# Total heat loss\n",
    "Q_L_1 = P_L * T_W / 24\n",
    "\n",
    "print(\"Result:\\n\")\n",
    "print(\"Heat loss of the lighting system in the room 1: {} BTU/hr\".format(Q_L_1))"
   ]
  },
  {
   "cell_type": "code",
   "execution_count": 19,
   "metadata": {},
   "outputs": [
    {
     "output_type": "stream",
     "name": "stdout",
     "text": [
      "Q_Total_Room1: 60130.32 BTU/hr\n"
     ]
    }
   ],
   "source": [
    "\"Total Load of the room 1\"\n",
    "Q_Total = 60130.32\n",
    "\n",
    "\n",
    "print(\"Q_Total_Room1: {} BTU/hr\".format(Q_Total))"
   ]
  },
  {
   "cell_type": "code",
   "execution_count": null,
   "metadata": {},
   "outputs": [],
   "source": []
  }
 ]
}