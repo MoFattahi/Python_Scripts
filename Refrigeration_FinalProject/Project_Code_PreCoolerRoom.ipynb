{
 "metadata": {
  "language_info": {
   "codemirror_mode": {
    "name": "ipython",
    "version": 3
   },
   "file_extension": ".py",
   "mimetype": "text/x-python",
   "name": "python",
   "nbconvert_exporter": "python",
   "pygments_lexer": "ipython3",
   "version": "3.9.0"
  },
  "orig_nbformat": 2,
  "kernelspec": {
   "name": "python3",
   "display_name": "Python 3.9.0 64-bit",
   "metadata": {
    "interpreter": {
     "hash": "aee8b7b246df8f9039afb4144a1f6fd8d2ca17a180786b69acc140d282b71a49"
    }
   }
  }
 },
 "nbformat": 4,
 "nbformat_minor": 2,
 "cells": [
  {
   "source": [
    "# Heat transfer from walls, ceil, floor"
   ],
   "cell_type": "markdown",
   "metadata": {}
  },
  {
   "source": [
    "# Pre-Cooler Room"
   ],
   "cell_type": "markdown",
   "metadata": {}
  },
  {
   "source": [
    "## West Wall"
   ],
   "cell_type": "markdown",
   "metadata": {}
  },
  {
   "cell_type": "code",
   "execution_count": 3,
   "metadata": {},
   "outputs": [],
   "source": [
    "# Total Thickness = 20 inch"
   ]
  },
  {
   "cell_type": "code",
   "execution_count": 1,
   "metadata": {},
   "outputs": [
    {
     "output_type": "stream",
     "name": "stdout",
     "text": [
      "\n\nHeat transfer rates:\n\nOverall heat transfer coefficient(U): 0.015598190609889253\nHeat Transfer form the west wall: 554.5468725627828 BTU/hr\n\n"
     ]
    }
   ],
   "source": [
    "# Thermal resistances\n",
    "\n",
    "# polyurethane\n",
    "R_1_l_w = 4.81 # Unit: ft^2 . F / (BTU / hr) per inch\n",
    "L_1_w = 13      # Thickness of the insulation(inch)\n",
    "R_1_w = L_1_w * R_1_l_w\n",
    "\n",
    "# Pressed brick\n",
    "# Thickness = 11 cm\n",
    "# Unit: ft^2 . F / (BTU / hr)\n",
    "R_2_w = 0.51\n",
    "\n",
    "# Ceramics \n",
    "# Unit: ft^2 . F / (BTU / hr) per inch\n",
    "R_3_l_w = 0.07\n",
    "L_3_w = 1     # Thickness\n",
    "R_3_w = R_3_l_w * L_3_w\n",
    "\n",
    "# Cement\n",
    "# Unit: ft^2 . F / (BTU / hr) per inch\n",
    "R_4_l_w = 0.07\n",
    "L_4_w = 2     # Thickness(in)\n",
    "R_4_w = R_4_l_w * L_4_w\n",
    "\n",
    "\n",
    "# Air Layer (Inside)\n",
    "R_5_w = 0.53\n",
    "\n",
    "# Air Layer (Outside)\n",
    "R_6_w = 0.33\n",
    "\n",
    "# Overall Heat Transfer Coefficient\n",
    "U_W_Wall = 1/(R_1_w + R_2_w + R_3_w + R_4_w + R_5_w + R_6_w)\n",
    "\n",
    "\n",
    "\n",
    "# Area(West Wall)(ft^2)\n",
    "A_West = 800\n",
    "\n",
    "# Temperature difference(F)\n",
    "TD_W_Wall = 40.4 \n",
    "\n",
    "# Conversion Coefficient \n",
    "n = 1.1\n",
    "\n",
    "\n",
    "# Heat Transfer \n",
    "\n",
    "# West Wall\n",
    "Q_W_Wall = n * U_W_Wall * A_West * TD_W_Wall\n",
    "\n",
    "\n",
    "\n",
    "print(\"\\n\\nHeat transfer rates:\\n\")\n",
    "print(\"Overall heat transfer coefficient(U): {}\".format(U_W_Wall))\n",
    "print(\"Heat Transfer form the west wall: {} BTU/hr\\n\".format(Q_W_Wall))"
   ]
  },
  {
   "source": [
    "## North Wall"
   ],
   "cell_type": "markdown",
   "metadata": {}
  },
  {
   "cell_type": "code",
   "execution_count": 2,
   "metadata": {},
   "outputs": [
    {
     "output_type": "stream",
     "name": "stdout",
     "text": [
      "\n\nThe heat transfer rate in the pree-cooler's north wall is the same as south walls' in the room4.\n\nHeat transfer form the north wall: -351.386 BTU/hr\n\n"
     ]
    }
   ],
   "source": [
    "print(\"\\n\\nThe heat transfer rate in the pree-cooler's north wall is the same as south walls' in the room4.\\n\")\n",
    "print(\"Heat transfer form the north wall: -351.386 BTU/hr\\n\")"
   ]
  },
  {
   "source": [
    "## East Wall"
   ],
   "cell_type": "markdown",
   "metadata": {}
  },
  {
   "cell_type": "code",
   "execution_count": null,
   "metadata": {},
   "outputs": [],
   "source": [
    "# Total thickness = 18 in"
   ]
  },
  {
   "cell_type": "code",
   "execution_count": 3,
   "metadata": {},
   "outputs": [
    {
     "output_type": "stream",
     "name": "stdout",
     "text": [
      "\nOverall heat transfer coefficient(U) for the east wall: 0.01584534938995405\nHeat transfer form the east wall: 98.45095864363812 BTU/hr\n\n"
     ]
    }
   ],
   "source": [
    "# Area(East Wall)(ft^2)\n",
    "A_East = 784.5 \n",
    "\n",
    "# Ceramics:\n",
    "R_1_l_E = 0.07 # Unit: ft^2 . F / (BTU / hr) per inch\n",
    "L_1_E = 1\n",
    "R_1_E = R_1_l_E * L_1_E\n",
    "\n",
    "# Pressed brick\n",
    "# Thickness = 11 cm\n",
    "# Unit: ft^2 . F / (BTU / hr)\n",
    "R_2_E = 0.51\n",
    "\n",
    "# polyurethane\n",
    "R_3_l_E = 4.81 # Unit: ft^2 . F / (BTU / hr) per inch\n",
    "L_3_E = 13      # Thickness of the insulation(inch)\n",
    "R_3_E = L_3_E * R_3_l_E\n",
    "\n",
    "# Overall Heat Transfer Coefficient\n",
    "U_E_Wall = 1 / (R_1_E + R_2_E + R_3_E)\n",
    "\n",
    "# Temperature difference(F)\n",
    "TD_E_Wall = 7.2\n",
    "\n",
    "# Conversion Coefficient \n",
    "n = 1.1\n",
    "\n",
    "# Heat Transfer\n",
    "Q_E_Wall = n * U_E_Wall * A_East * TD_E_Wall\n",
    "\n",
    "\n",
    "\n",
    "print(\"\")\n",
    "print(\"Overall heat transfer coefficient(U) for the east wall: {}\".format(U_E_Wall))\n",
    "print(\"Heat transfer form the east wall: {} BTU/hr\\n\".format(Q_E_Wall))"
   ]
  },
  {
   "source": [
    "## South Wall"
   ],
   "cell_type": "markdown",
   "metadata": {}
  },
  {
   "cell_type": "code",
   "execution_count": 13,
   "metadata": {},
   "outputs": [],
   "source": [
    "# total thickness = 25 in"
   ]
  },
  {
   "cell_type": "code",
   "execution_count": 4,
   "metadata": {},
   "outputs": [
    {
     "output_type": "stream",
     "name": "stdout",
     "text": [
      "\n\nHeat transfer rate:\n\nOverall heat transfer coefficient(U): 0.012662234884457108\nHeat transfer rate form the south wall: 517.9157961380184 BTU/hr\n\n\n"
     ]
    }
   ],
   "source": [
    "# Thermal resistances\n",
    "\n",
    "# polyurethane\n",
    "R_1_l_S = 4.81 # Unit: ft^2 . F / (BTU / hr) per inch\n",
    "L_1_S = 16      # Thickness of the insulation(inch)\n",
    "R_1_S = L_1_S * R_1_l_S\n",
    "\n",
    "# Pressed brick\n",
    "# Thickness = 11 cm\n",
    "# Unit: ft^2 . F / (BTU / hr)\n",
    "R_2_S = 0.51\n",
    "\n",
    "# Ceramics \n",
    "# Unit: ft^2 . F / (BTU / hr) per inch\n",
    "R_3_l_S = 0.07\n",
    "L_3_S = 1     # Thickness\n",
    "R_3_S = R_3_l_S * L_3_S\n",
    "\n",
    "# Cement\n",
    "# Unit: ft^2 . F / (BTU / hr) per inch\n",
    "R_4_l_S = 0.07\n",
    "L_4_S = 2     # Thickness(in)\n",
    "R_4_S = R_4_l_S * L_4_S\n",
    "\n",
    "# Plaster\n",
    "# Unit: ft^2 . F / (BTU / hr) per inch\n",
    "R_5_l_S = 0.29\n",
    "l_5_S = 1.5\n",
    "R_5_S = R_5_l_S * l_5_S\n",
    "\n",
    "# Air Layer (Inside)\n",
    "R_6_S = 0.53\n",
    "\n",
    "# Air Layer (Outside)\n",
    "R_7_S = 0.33\n",
    "\n",
    "\n",
    "# Overall Heat Transfer Coefficient\n",
    "U_S_Wall = 1/(R_1_S + R_2_S + R_3_S + R_4_S + R_5_S + R_6_S + R_7_S)\n",
    "\n",
    "# Area(South Wall)(ft^2)\n",
    "A_South = 560\n",
    "\n",
    "\n",
    "# Temperature difference(F)\n",
    "\n",
    "TD_S_Wall = 66.4\n",
    "\n",
    "# Conversion Coefficient \n",
    "n = 1.1\n",
    "\n",
    "\n",
    "# Heat Transfer \n",
    "Q_S_Wall = n * U_S_Wall * A_South * TD_S_Wall\n",
    "\n",
    "\n",
    "print(\"\\n\\nHeat transfer rate:\\n\")\n",
    "print(\"Overall heat transfer coefficient(U): {}\".format(U_S_Wall))\n",
    "print(\"Heat transfer rate form the south wall: {} BTU/hr\\n\\n\".format(Q_S_Wall))"
   ]
  },
  {
   "source": [
    "## Ceil"
   ],
   "cell_type": "markdown",
   "metadata": {}
  },
  {
   "cell_type": "code",
   "execution_count": null,
   "metadata": {},
   "outputs": [],
   "source": [
    "# Total Thickness = 24 inch"
   ]
  },
  {
   "cell_type": "code",
   "execution_count": 5,
   "metadata": {},
   "outputs": [
    {
     "output_type": "stream",
     "name": "stdout",
     "text": [
      "\n\n\nOverall heat transfer coefficient(U) for the ceil: 0.01471800306134464 BTU/hr.F.ft^2\nHeat transfer form the ceil: 1172.9512539738612 BTU/hr\n\n"
     ]
    }
   ],
   "source": [
    "# Polystyrene Block\n",
    "R_1_c = 4.83   # Unit: ft^2 . F / (BTU / hr)\n",
    "\n",
    "# Ceramics\n",
    "R_2_l_c = 0.07   # Unit: ft^2 . F / (BTU / hr) per inch\n",
    "L_2_c = 1.2      # Thickness(inch)\n",
    "R_2_c = R_2_l_c * L_2_c\n",
    "\n",
    "# Air layer(Inside)\n",
    "R_3_c = 0.5 # Unit: ft^2 . F / (BTU / hr)\n",
    "\n",
    "# polyurethane\n",
    "R_4_l_c = 4.81 # Unit: ft^2 . F / (BTU / hr) per inch\n",
    "L_4_c = 13     # Thickness of the insulation(inch)\n",
    "R_4_c = L_4_c * R_4_l_c\n",
    "\n",
    "# Overall Heat Transfer Coefficient\n",
    "U_Ceil = 1/(R_1_c + R_2_c + R_3_c + R_4_c)\n",
    "\n",
    "# Area(Ft^2)\n",
    "A_Ceil = 1750 \n",
    "\n",
    "# Temperature difference(F)\n",
    "TD_Ceil = 41.4\n",
    "\n",
    "# Conversion Coefficient \n",
    "n = 1.1\n",
    "\n",
    "\n",
    "# Heat Transfer \n",
    "Q_Ceil = n * U_Ceil * A_Ceil * TD_Ceil\n",
    "\n",
    "print(\"\\n\\n\")\n",
    "print(\"Overall heat transfer coefficient(U) for the ceil: {} BTU/hr.F.ft^2\".format(U_Ceil))\n",
    "print(\"Heat transfer form the ceil: {} BTU/hr\\n\".format(Q_Ceil))"
   ]
  },
  {
   "source": [
    "## Floor "
   ],
   "cell_type": "markdown",
   "metadata": {}
  },
  {
   "cell_type": "code",
   "execution_count": 21,
   "metadata": {},
   "outputs": [],
   "source": [
    "# Total Thickness = 21 inch"
   ]
  },
  {
   "cell_type": "code",
   "execution_count": 5,
   "metadata": {},
   "outputs": [
    {
     "output_type": "stream",
     "name": "stdout",
     "text": [
      "\n\n\nOverall heat transfer coefficient(U) for the floor: 0.011512779184895234 BTU/hr.F.ft^2\nHeat transfer form the floor: 319.13423900529597 BTU/hr\n\n"
     ]
    }
   ],
   "source": [
    "# Thermal resistances\n",
    "\n",
    "# mosaic\n",
    "R_1_l_f = 0.08   # Unit: ft^2 . F / (BTU / hr) per inch\n",
    "L_1_f = 1      # Thickness(inch)\n",
    "R_1_f = R_1_l_f * L_1_f\n",
    "\n",
    "# polyurethane\n",
    "R_2_l_f = 4.81 # Unit: ft^2 . F / (BTU / hr) per inch\n",
    "L_2_f = 18      # Thickness of the insulation(inch)\n",
    "R_2_f = L_2_f * R_2_l_f\n",
    "\n",
    "# concrete\n",
    "R_3_l_f = 0.1   # Unit: ft^2 . F / (BTU / hr) per inch\n",
    "L_3_f = 2      # Thickness(inch)\n",
    "R_3_f = R_3_l_f * L_3_f\n",
    "\n",
    "# Overall Heat Transfer Coefficient\n",
    "U_Floor = 1/(R_1_f + R_2_f + R_3_f)\n",
    "\n",
    "# Area(Ft^2)\n",
    "A_Floor = 1750 \n",
    "\n",
    "# Temperature difference(F)\n",
    "TD_Floor = 14.4\n",
    "\n",
    "# Conversion Coefficient \n",
    "n = 1.1\n",
    "\n",
    "\n",
    "# Heat Transfer \n",
    "Q_Floor = n * U_Floor * A_Floor * TD_Floor\n",
    "\n",
    "print(\"\\n\\n\")\n",
    "print(\"Overall heat transfer coefficient(U) for the floor: {} BTU/hr.F.ft^2\".format(U_Floor))\n",
    "print(\"Heat transfer form the floor: {} BTU/hr\\n\".format(Q_Floor))"
   ]
  },
  {
   "source": [
    "# Infiltration air heat transfer rate"
   ],
   "cell_type": "markdown",
   "metadata": {}
  },
  {
   "cell_type": "code",
   "execution_count": 7,
   "metadata": {},
   "outputs": [
    {
     "output_type": "stream",
     "name": "stdout",
     "text": [
      "Result:\n\nInfiltration heat loss for the room 1(From the table): 160.61 BTU/hr\n"
     ]
    }
   ],
   "source": [
    "# Effective Volume of the Room(Unit: ft^3)\n",
    "V_2 = 28000\n",
    "\n",
    "# Storage temperature of the room(F)\n",
    "T_2 = 35.6\n",
    "print(\"Result:\\n\")\n",
    "print(\"Infiltration heat loss for the room 1(From the table): 160.61 BTU/hr\")"
   ]
  },
  {
   "source": [
    "# Heat loss from the products"
   ],
   "cell_type": "markdown",
   "metadata": {}
  },
  {
   "cell_type": "code",
   "execution_count": 9,
   "metadata": {},
   "outputs": [
    {
     "output_type": "stream",
     "name": "stdout",
     "text": [
      "Result:\n\nHeat loss of the products in the pree-cooler room: 5717.685675000001 BTU/hr\n"
     ]
    }
   ],
   "source": [
    "# Total mass of the products(lb)\n",
    "M_preecooler = 7716.175\n",
    "\n",
    "# Specific heat of the products(Above Freeezing), unit: BTU/lb.F\n",
    "# https://www.engineeringtoolbox.com/specific-heat-capacity-food-d_295.html\n",
    "c_AF = 0.76\n",
    "\n",
    "# Inlet Temperature(F)\n",
    "T_i = 59\n",
    "\n",
    "# Outlet Temperature(F)\n",
    "T_o = 35.6\n",
    "\n",
    "# Heat loss of the products(24 hr: Assumption for the time of the cooling)\n",
    "Q_P_preecooler = M_preecooler * c_AF * (T_i - T_o) / 24\n",
    "\n",
    "print(\"Result:\\n\")\n",
    "print(\"Heat loss of the products in the pree-cooler room: {} BTU/hr\".format(Q_P_preecooler))"
   ]
  },
  {
   "source": [
    "# Heat loss from the boxes"
   ],
   "cell_type": "markdown",
   "metadata": {}
  },
  {
   "cell_type": "code",
   "execution_count": 10,
   "metadata": {},
   "outputs": [
    {
     "output_type": "stream",
     "name": "stdout",
     "text": [
      "Result:\n\nHeat loss of the boxes in the pree-cooler room: 208.13793 BTU/hr\n"
     ]
    }
   ],
   "source": [
    "# Total mass of the boxes\n",
    "M_boxes = 44 * 29\n",
    "\n",
    "# Specific heat(unit: BTU/lb.F)\n",
    "c_box = 0.1673\n",
    "\n",
    "# Inlet Temperature(F)\n",
    "T_i = 59\n",
    "\n",
    "# Outlet Temperature(F)\n",
    "T_o = 35.6\n",
    "\n",
    "# Heat loss from the boxes \n",
    "Q_B_precooler = M_boxes * c_box * (T_i - T_o) / 24\n",
    "\n",
    "print(\"Result:\\n\")\n",
    "print(\"Heat loss of the boxes in the pree-cooler room: {} BTU/hr\".format(Q_B_precooler))"
   ]
  },
  {
   "source": [
    "# miscellaneous heat losses"
   ],
   "cell_type": "markdown",
   "metadata": {}
  },
  {
   "source": [
    "# Heat loss from the people in the refregiration room"
   ],
   "cell_type": "markdown",
   "metadata": {}
  },
  {
   "cell_type": "code",
   "execution_count": 13,
   "metadata": {},
   "outputs": [
    {
     "output_type": "stream",
     "name": "stdout",
     "text": [
      "\n\n\nHeat loss of the people in the precooler room : 350.0 BTU/hr\n\n\n"
     ]
    }
   ],
   "source": [
    "# Number of people\n",
    "N_P = 2\n",
    "\n",
    "# Working time(hr)\n",
    "T_W = 8 \n",
    "\n",
    "# Heat loss from each person(unit: BTU/hr) (Condition: Hard working)\n",
    "q_p = 525\n",
    "\n",
    "# Total heat loss\n",
    "Q_P_precooler = N_P * T_W * q_p / 24\n",
    "\n",
    "print(\"\\n\\n\")\n",
    "print(\"Heat loss of the people in the precooler room : {} BTU/hr\\n\\n\".format(Q_P_precooler))"
   ]
  },
  {
   "source": [
    "# Heat loss from the lighting system"
   ],
   "cell_type": "markdown",
   "metadata": {}
  },
  {
   "cell_type": "code",
   "execution_count": 14,
   "metadata": {},
   "outputs": [
    {
     "output_type": "stream",
     "name": "stdout",
     "text": [
      "\n\n\nHeat loss of the lighting system in the precooler room : 795.6666666666666 BTU/hr\n\n\n"
     ]
    }
   ],
   "source": [
    "# Working time(hr)\n",
    "T_W = 8\n",
    "\n",
    "# Total power of the lighting system(unit: BTU/hr)\n",
    "P_L = 2387\n",
    "\n",
    "# Total heat loss\n",
    "Q_L_preecooler = P_L * T_W / 24\n",
    "\n",
    "print(\"\\n\\n\")\n",
    "print(\"Heat loss of the lighting system in the precooler room : {} BTU/hr\\n\\n\".format(Q_L_preecooler))"
   ]
  },
  {
   "cell_type": "code",
   "execution_count": 11,
   "metadata": {},
   "outputs": [
    {
     "output_type": "stream",
     "name": "stdout",
     "text": [
      "Q_Total_PreCoolerRoom: 10013.539 BTU/hr\n"
     ]
    }
   ],
   "source": [
    "\"Total Load of the pre-cooler room\"\n",
    "Q_Total = 10013.539\n",
    "\n",
    "print(\"Q_Total_PreCoolerRoom: {} BTU/hr\".format(Q_Total))"
   ]
  },
  {
   "cell_type": "code",
   "execution_count": null,
   "metadata": {},
   "outputs": [],
   "source": []
  }
 ]
}