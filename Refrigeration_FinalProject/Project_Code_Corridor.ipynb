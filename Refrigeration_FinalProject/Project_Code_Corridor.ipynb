{
 "metadata": {
  "language_info": {
   "codemirror_mode": {
    "name": "ipython",
    "version": 3
   },
   "file_extension": ".py",
   "mimetype": "text/x-python",
   "name": "python",
   "nbconvert_exporter": "python",
   "pygments_lexer": "ipython3",
   "version": "3.9.0"
  },
  "orig_nbformat": 2,
  "kernelspec": {
   "name": "python3",
   "display_name": "Python 3.9.0 64-bit",
   "metadata": {
    "interpreter": {
     "hash": "aee8b7b246df8f9039afb4144a1f6fd8d2ca17a180786b69acc140d282b71a49"
    }
   }
  }
 },
 "nbformat": 4,
 "nbformat_minor": 2,
 "cells": [
  {
   "source": [
    "# Heat transfer from walls, ceil, floor"
   ],
   "cell_type": "markdown",
   "metadata": {}
  },
  {
   "source": [
    "# Corridor"
   ],
   "cell_type": "markdown",
   "metadata": {}
  },
  {
   "source": [
    "## North Wall"
   ],
   "cell_type": "markdown",
   "metadata": {}
  },
  {
   "cell_type": "code",
   "execution_count": null,
   "metadata": {},
   "outputs": [],
   "source": [
    "# Total thickness = 20 in"
   ]
  },
  {
   "cell_type": "code",
   "execution_count": 1,
   "metadata": {},
   "outputs": [
    {
     "output_type": "stream",
     "name": "stdout",
     "text": [
      "Resluts:\n\nHeat transfer rates:\n\nOverall heat transfer coefficient(U): 0.015598190609889253\nHeat transfer form the north wall: 82.90750272968337 BTU/hr\n"
     ]
    }
   ],
   "source": [
    "# Thermal resistances\n",
    "\n",
    "# polyurethane\n",
    "R_1_l_w = 4.81 # Unit: ft^2 . F / (BTU / hr) per inch\n",
    "L_1_w = 13      # Thickness of the insulation(inch)\n",
    "R_1_w = L_1_w * R_1_l_w\n",
    "\n",
    "# Pressed brick\n",
    "# Thickness = 11 cm\n",
    "# Unit: ft^2 . F / (BTU / hr)\n",
    "R_2_w = 0.51\n",
    "\n",
    "# Ceramics \n",
    "# Unit: ft^2 . F / (BTU / hr) per inch\n",
    "R_3_l_w = 0.07\n",
    "L_3_w = 1     # Thickness\n",
    "R_3_w = R_3_l_w * L_3_w\n",
    "\n",
    "# Cement\n",
    "# Unit: ft^2 . F / (BTU / hr) per inch\n",
    "R_4_l_w = 0.07\n",
    "L_4_w = 2     # Thickness(in)\n",
    "R_4_w = R_4_l_w * L_4_w\n",
    "\n",
    "\n",
    "# Air Layer (Inside)\n",
    "R_5_w = 0.53\n",
    "\n",
    "# Air Layer (Outside)\n",
    "R_6_w = 0.33\n",
    "\n",
    "# Overall Heat Transfer Coefficient\n",
    "U_N_Wall = 1/(R_1_w + R_2_w + R_3_w + R_4_w + R_5_w + R_6_w)\n",
    "\n",
    "# Area(North Wall)(ft^2)\n",
    "A_North = 160\n",
    "\n",
    "\n",
    "\n",
    "# Temperature difference(F)\n",
    "TD_N_Wall = 30.2\n",
    "\n",
    "# Conversion Coefficient \n",
    "n = 1.1\n",
    "\n",
    "\n",
    "# Heat Transfer \n",
    "\n",
    "# North Wall\n",
    "Q_N_Wall = n * U_N_Wall * A_North * TD_N_Wall\n",
    "\n",
    "\n",
    "print(\"Resluts:\\n\\nHeat transfer rates:\\n\")\n",
    "\n",
    "print(\"Overall heat transfer coefficient(U): {}\".format(U_N_Wall))\n",
    "print(\"Heat transfer form the north wall: {} BTU/hr\".format(Q_N_Wall))"
   ]
  },
  {
   "source": [
    "## South Wall"
   ],
   "cell_type": "markdown",
   "metadata": {}
  },
  {
   "cell_type": "code",
   "execution_count": 7,
   "metadata": {},
   "outputs": [],
   "source": [
    "# total thickness = 25 in"
   ]
  },
  {
   "cell_type": "code",
   "execution_count": 2,
   "metadata": {},
   "outputs": [
    {
     "output_type": "stream",
     "name": "stdout",
     "text": [
      "Resluts:\n\nHeat transfer rate:\n\nOverall heat transfer coefficient(U): 0.012662234884457108\nHeat transfer rate form the south wall: 119.8070275403609 BTU/hr\n"
     ]
    }
   ],
   "source": [
    "# Thermal resistances\n",
    "\n",
    "# polyurethane\n",
    "R_1_l_S = 4.81 # Unit: ft^2 . F / (BTU / hr) per inch\n",
    "L_1_S = 16      # Thickness of the insulation(inch)\n",
    "R_1_S = L_1_S * R_1_l_S\n",
    "\n",
    "# Pressed brick\n",
    "# Thickness = 11 cm\n",
    "# Unit: ft^2 . F / (BTU / hr)\n",
    "R_2_S = 0.51\n",
    "\n",
    "# Ceramics \n",
    "# Unit: ft^2 . F / (BTU / hr) per inch\n",
    "R_3_l_S = 0.07\n",
    "L_3_S = 1     # Thickness\n",
    "R_3_S = R_3_l_S * L_3_S\n",
    "\n",
    "# Cement\n",
    "# Unit: ft^2 . F / (BTU / hr) per inch\n",
    "R_4_l_S = 0.07\n",
    "L_4_S = 2     # Thickness(in)\n",
    "R_4_S = R_4_l_S * L_4_S\n",
    "\n",
    "# Plaster\n",
    "# Unit: ft^2 . F / (BTU / hr) per inch\n",
    "R_5_l_S = 0.29\n",
    "l_5_S = 1.5\n",
    "R_5_S = R_5_l_S * l_5_S\n",
    "\n",
    "# Air Layer (Inside)\n",
    "R_6_S = 0.53\n",
    "\n",
    "# Air Layer (Outside)\n",
    "R_7_S = 0.33\n",
    "\n",
    "\n",
    "# Overall Heat Transfer Coefficient\n",
    "U_S_Wall = 1/(R_1_S + R_2_S + R_3_S + R_4_S + R_5_S + R_6_S + R_7_S)\n",
    "\n",
    "# Area(South Wall)(ft^2)\n",
    "A_South = 84\n",
    "\n",
    "\"\"\"We have assumed a sliding door in the south wall of the corridor which is the main door(Entrance door) for the     refrigeration room.\n",
    "   L_door = 8 ft\n",
    "   W_door = 9.5 ft\n",
    "\"\"\"\n",
    "\n",
    "# Temperature difference(F)\n",
    "TD_S_Wall = 102.4\n",
    "\n",
    "# Conversion Coefficient \n",
    "n = 1.1\n",
    "\n",
    "\n",
    "# Heat Transfer \n",
    "Q_S_Wall = n * U_S_Wall * A_South * TD_S_Wall\n",
    "\n",
    "\n",
    "print(\"Resluts:\\n\\nHeat transfer rate:\\n\")\n",
    "\n",
    "print(\"Overall heat transfer coefficient(U): {}\".format(U_S_Wall))\n",
    "print(\"Heat transfer rate form the south wall: {} BTU/hr\".format(Q_S_Wall))"
   ]
  },
  {
   "source": [
    "## East Wall"
   ],
   "cell_type": "markdown",
   "metadata": {}
  },
  {
   "cell_type": "code",
   "execution_count": 3,
   "metadata": {},
   "outputs": [
    {
     "output_type": "stream",
     "name": "stdout",
     "text": [
      "\n\nWe can use the rates that we calculated in the previuos sections to determine the rate of heat transfer for the corridor.\n\n\nHeat transfer rate: -2409.5 BTU / hr\n"
     ]
    }
   ],
   "source": [
    "Q_E_Total = - 1204.75 * 2 \n",
    "print(\"\\n\\nWe can use the rates that we calculated in the previuos sections to determine the rate of heat transfer for the corridor.\\n\\n\")\n",
    "print(\"Heat transfer rate: {} BTU / hr\".format(Q_E_Total))"
   ]
  },
  {
   "source": [
    "## West Wall"
   ],
   "cell_type": "markdown",
   "metadata": {}
  },
  {
   "cell_type": "code",
   "execution_count": 4,
   "metadata": {},
   "outputs": [
    {
     "output_type": "stream",
     "name": "stdout",
     "text": [
      "\n\nWe can use the rates that we calculated in the previuos sections to determine the rate of heat transfer for the corridor.\n\n\nHeat transfer rate: -1905.575 BTU / hr\n\n\n"
     ]
    }
   ],
   "source": [
    "Q_W_Total = - 1204.75 - 602.375 - 98.45\n",
    "print(\"\\n\\nWe can use the rates that we calculated in the previuos sections to determine the rate of heat transfer for the corridor.\\n\\n\")\n",
    "print(\"Heat transfer rate: {} BTU / hr\\n\\n\".format(Q_W_Total))"
   ]
  },
  {
   "source": [
    "## Floor "
   ],
   "cell_type": "markdown",
   "metadata": {}
  },
  {
   "cell_type": "code",
   "execution_count": null,
   "metadata": {},
   "outputs": [],
   "source": [
    "# Total Thickness = 21 inch"
   ]
  },
  {
   "cell_type": "code",
   "execution_count": 5,
   "metadata": {},
   "outputs": [
    {
     "output_type": "stream",
     "name": "stdout",
     "text": [
      "Results:\n\n\nOverall heat transfer coefficient(U) for the floor: 0.011512779184895234 BTU/hr.F.ft^2\nHeat transfer from the floor: 182.36242228874053 BTU/hr\n\n"
     ]
    }
   ],
   "source": [
    "# Thermal resistances\n",
    "\n",
    "# mosaic\n",
    "R_1_l_f = 0.08   # Unit: ft^2 . F / (BTU / hr) per inch\n",
    "L_1_f = 1      # Thickness(inch)\n",
    "R_1_f = R_1_l_f * L_1_f\n",
    "\n",
    "# polyurethane\n",
    "R_2_l_f = 4.81 # Unit: ft^2 . F / (BTU / hr) per inch\n",
    "L_2_f = 18      # Thickness of the insulation(inch)\n",
    "R_2_f = L_2_f * R_2_l_f\n",
    "\n",
    "# concrete\n",
    "R_3_l_f = 0.1   # Unit: ft^2 . F / (BTU / hr) per inch\n",
    "L_3_f = 2      # Thickness(inch)\n",
    "R_3_f = R_3_l_f * L_3_f\n",
    "\n",
    "# Overall Heat Transfer Coefficient\n",
    "U_Floor = 1/(R_1_f + R_2_f + R_3_f)\n",
    "\n",
    "# Area(Ft^2)\n",
    "A_Floor = 2000 \n",
    "\n",
    "# Temperature difference(F)\n",
    "TD_Floor = 7.2\n",
    "\n",
    "# Conversion Coefficient \n",
    "n = 1.1\n",
    "\n",
    "\n",
    "# Heat Transfer \n",
    "Q_Floor = n * U_Floor * A_Floor * TD_Floor\n",
    "\n",
    "print(\"Results:\\n\\n\")\n",
    "print(\"Overall heat transfer coefficient(U) for the floor: {} BTU/hr.F.ft^2\".format(U_Floor))\n",
    "print(\"Heat transfer from the floor: {} BTU/hr\\n\".format(Q_Floor))"
   ]
  },
  {
   "source": [
    "## Ceil"
   ],
   "cell_type": "markdown",
   "metadata": {}
  },
  {
   "cell_type": "code",
   "execution_count": 19,
   "metadata": {},
   "outputs": [],
   "source": [
    "# Total Thickness = 24 inch"
   ]
  },
  {
   "cell_type": "code",
   "execution_count": 6,
   "metadata": {},
   "outputs": [
    {
     "output_type": "stream",
     "name": "stdout",
     "text": [
      "Results:\n\n\nOverall heat transfer coefficient(U) for the ceil: 0.01471800306134464 BTU/hr.F.ft^2\nHeat transfer form the ceil: 1107.3825503355708 BTU/hr\n\n"
     ]
    }
   ],
   "source": [
    "# Polystyrene Block\n",
    "R_1_c = 4.83   # Unit: ft^2 . F / (BTU / hr)\n",
    "\n",
    "# Ceramics\n",
    "R_2_l_c = 0.07   # Unit: ft^2 . F / (BTU / hr) per inch\n",
    "L_2_c = 1.2      # Thickness(inch)\n",
    "R_2_c = R_2_l_c * L_2_c\n",
    "\n",
    "# Air layer(Inside)\n",
    "R_3_c = 0.5 # Unit: ft^2 . F / (BTU / hr)\n",
    "\n",
    "# polyurethane\n",
    "R_4_l_c = 4.81 # Unit: ft^2 . F / (BTU / hr) per inch\n",
    "L_4_c = 13     # Thickness of the insulation(inch)\n",
    "R_4_c = L_4_c * R_4_l_c\n",
    "\n",
    "# Overall Heat Transfer Coefficient\n",
    "U_Ceil = 1/(R_1_c + R_2_c + R_3_c + R_4_c)\n",
    "\n",
    "# Area(Ft^2)\n",
    "A_Ceil = 2000 \n",
    "\n",
    "# Temperature difference(F)\n",
    "TD_Ceil = 34.2\n",
    "\n",
    "# Conversion Coefficient \n",
    "n = 1.1\n",
    "\n",
    "\n",
    "# Heat Transfer \n",
    "Q_Ceil = n * U_Ceil * A_Ceil * TD_Ceil\n",
    "\n",
    "print(\"Results:\\n\\n\")\n",
    "print(\"Overall heat transfer coefficient(U) for the ceil: {} BTU/hr.F.ft^2\".format(U_Ceil))\n",
    "print(\"Heat transfer form the ceil: {} BTU/hr\\n\".format(Q_Ceil))"
   ]
  },
  {
   "source": [
    "# Infiltration air heat transfer rate"
   ],
   "cell_type": "markdown",
   "metadata": {}
  },
  {
   "cell_type": "code",
   "execution_count": 7,
   "metadata": {},
   "outputs": [
    {
     "output_type": "stream",
     "name": "stdout",
     "text": [
      "Result:\n\nInfiltration heat loss for the  corridor: 136.82 BTU/hr\n"
     ]
    }
   ],
   "source": [
    "# Effective Volume of the Room(Unit: ft^3)\n",
    "V_C = 32000\n",
    "\n",
    "# Corridor temperature(F)\n",
    "T_C = 42.8\n",
    "\n",
    "\n",
    "\n",
    "\n",
    "print(\"Result:\\n\")\n",
    "print(\"Infiltration heat loss for the  corridor: 136.82 BTU/hr\")"
   ]
  },
  {
   "source": [
    "# miscellaneous heat losses"
   ],
   "cell_type": "markdown",
   "metadata": {}
  },
  {
   "source": [
    "# Heat loss from the people in the refregiration room"
   ],
   "cell_type": "markdown",
   "metadata": {}
  },
  {
   "cell_type": "code",
   "execution_count": 4,
   "metadata": {},
   "outputs": [
    {
     "output_type": "stream",
     "name": "stdout",
     "text": [
      "Result:\n\nHeat loss of the people in the corridor: 350.0 BTU/hr\n"
     ]
    }
   ],
   "source": [
    "# Number of people\n",
    "N_P = 2\n",
    "\n",
    "# Working time(hr)\n",
    "T_W = 8 \n",
    "\n",
    "# Heat loss from each person(unit: BTU/hr) (Condition: Hard working)\n",
    "q_p = 525\n",
    "\n",
    "# Total heat loss\n",
    "Q_P_corridor = N_P * T_W * q_p / 24\n",
    "\n",
    "print(\"Result:\\n\")\n",
    "print(\"Heat loss of the people in the corridor: {} BTU/hr\".format(Q_P_corridor))"
   ]
  },
  {
   "source": [
    "# Heat loss from the lighting system"
   ],
   "cell_type": "markdown",
   "metadata": {}
  },
  {
   "cell_type": "code",
   "execution_count": 3,
   "metadata": {},
   "outputs": [
    {
     "output_type": "stream",
     "name": "stdout",
     "text": [
      "Result:\n\nHeat loss of the lighting system in the corridor: 1149.3333333333333 BTU/hr\n"
     ]
    }
   ],
   "source": [
    "# Working time(hr)\n",
    "T_W = 8\n",
    "\n",
    "# Total power of the lighting system(unit: BTU/hr)\n",
    "P_L = 3448\n",
    "\n",
    "# Total heat loss\n",
    "Q_L_corridor = P_L * T_W / 24\n",
    "\n",
    "print(\"Result:\\n\")\n",
    "print(\"Heat loss of the lighting system in the corridor: {} BTU/hr\".format(Q_L_corridor))"
   ]
  },
  {
   "source": [
    "# Heat loss from the Forklifts"
   ],
   "cell_type": "markdown",
   "metadata": {}
  },
  {
   "cell_type": "code",
   "execution_count": 6,
   "metadata": {},
   "outputs": [
    {
     "output_type": "stream",
     "name": "stdout",
     "text": [
      "Result:\n\nHeat loss of the Forklifts in the corridor: 3668.05265 BTU/hr\n"
     ]
    }
   ],
   "source": [
    "# Total number of Forklifts\n",
    "N_F = 2\n",
    "\n",
    "# Working time(hr)\n",
    "T_W = 3\n",
    "\n",
    "# Power of each Forklift(BTU/hr)\n",
    "P_F = 14672.2106\n",
    "\n",
    "# Total heat loss\n",
    "Q_F_corridor = P_F * T_W * N_F / 24\n",
    "\n",
    "print(\"Result:\\n\")\n",
    "print(\"Heat loss of the Forklifts in the corridor: {} BTU/hr\".format(Q_F_corridor))"
   ]
  },
  {
   "cell_type": "code",
   "execution_count": 8,
   "metadata": {},
   "outputs": [
    {
     "output_type": "stream",
     "name": "stdout",
     "text": [
      "Q_Total_Corridor: 2501.59 BTU/hr\n"
     ]
    }
   ],
   "source": [
    "\"Total Load of the Corridor\"\n",
    "\n",
    "Q_Total = 2501.59\n",
    "\n",
    "print(\"Q_Total_Corridor: {} BTU/hr\".format(Q_Total))"
   ]
  }
 ]
}